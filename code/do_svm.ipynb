{
 "cells": [
  {
   "cell_type": "code",
   "execution_count": 9,
   "metadata": {
    "collapsed": true
   },
   "outputs": [],
   "source": [
    "from sklearn.svm import SVC\n",
    "from process_data import get_data\n",
    "import numpy as np\n",
    "import decimal"
   ]
  },
  {
   "cell_type": "code",
   "execution_count": 10,
   "metadata": {
    "collapsed": false
   },
   "outputs": [
    {
     "name": "stdout",
     "output_type": "stream",
     "text": [
      "[1 3 2 4]\n"
     ]
    }
   ],
   "source": [
    "train_set=[[-1,2],[1,2],[10,3],[-1,-3],[1,-10],[-3,-1],[-1,-1],[4,-1]]\n",
    "train_label=[2,1,1,3,4,3,3,4]\n",
    "test_set=[[10,10],[-10,-10],[-1,1],[6,-3]]\n",
    "svclf = SVC(kernel = 'linear',decision_function_shape='ovo')#default with 'rbf'  \n",
    "svclf.fit(train_set,train_label)  \n",
    "test_label = svclf.predict(test_set);  \n",
    "print(test_label)"
   ]
  },
  {
   "cell_type": "code",
   "execution_count": 12,
   "metadata": {
    "collapsed": false
   },
   "outputs": [
    {
     "name": "stdout",
     "output_type": "stream",
     "text": [
      "word_set length:  25793\n",
      "400\n",
      "epoch =  0 , efficiency =  1.0\n",
      "epoch =  1 , efficiency =  1.0\n",
      "epoch =  2 , efficiency =  1.0\n",
      "epoch =  3 , efficiency =  1.0\n",
      "epoch =  4 , efficiency =  1.0\n"
     ]
    }
   ],
   "source": [
    "if __name__=='__main__':\n",
    "    train_set = get_data()\n",
    "    tset_size = len(train_set)\n",
    "    print(tset_size)\n",
    "    #print(train_set[0])\n",
    "    #print(train_set[1])\n",
    "    #5折交叉验证\n",
    "    for epoch in range(0,5):\n",
    "        perm = np.random.permutation(tset_size)\n",
    "        nb_train_set=[]\n",
    "        nb_train_label=[]\n",
    "        nb_test_set=[]\n",
    "        nb_test_label=[]\n",
    "        for i in range(0, int(4*tset_size/5)):\n",
    "            tmp_vec = train_set[perm[i]-1]\n",
    "            nb_train_set.append(tmp_vec[0:len(tmp_vec)-1])\n",
    "            nb_train_label.append(tmp_vec[len(tmp_vec)-1])\n",
    "        svclf = SVC(kernel = 'linear',decision_function_shape='ovo')#default with 'rbf'  \n",
    "        svclf.fit(nb_train_set,nb_train_label)  \n",
    "\n",
    "        \n",
    "        for i in range(int(4*tset_size/5), int(tset_size)):\n",
    "            tmp_vec = train_set[perm[i]]#train_set[1]\n",
    "            nb_test_set.append(tmp_vec[0:len(tmp_vec)-1])\n",
    "            nb_test_label.append(tmp_vec[len(tmp_vec)-1])\n",
    "        ans_label = svclf.predict(nb_test_set)\n",
    "        pred = list(map(lambda x,y : x==y, ans_label, nb_test_label))\n",
    "        efficiency = sum(pred)/len(nb_test_set)\n",
    "        print(\"epoch = \", epoch, \", efficiency = \", efficiency)\n",
    "        #break"
   ]
  },
  {
   "cell_type": "code",
   "execution_count": null,
   "metadata": {
    "collapsed": true
   },
   "outputs": [],
   "source": []
  }
 ],
 "metadata": {
  "anaconda-cloud": {},
  "kernelspec": {
   "display_name": "Python [conda root]",
   "language": "python",
   "name": "conda-root-py"
  },
  "language_info": {
   "codemirror_mode": {
    "name": "ipython",
    "version": 3
   },
   "file_extension": ".py",
   "mimetype": "text/x-python",
   "name": "python",
   "nbconvert_exporter": "python",
   "pygments_lexer": "ipython3",
   "version": "3.5.2"
  }
 },
 "nbformat": 4,
 "nbformat_minor": 1
}
