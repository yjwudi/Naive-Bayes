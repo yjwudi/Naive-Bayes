{
 "cells": [
  {
   "cell_type": "code",
   "execution_count": null,
   "metadata": {
    "collapsed": true
   },
   "outputs": [],
   "source": []
  },
  {
   "cell_type": "code",
   "execution_count": 18,
   "metadata": {
    "collapsed": false
   },
   "outputs": [
    {
     "name": "stdout",
     "output_type": "stream",
     "text": [
      "[1, 2, 3]\n"
     ]
    }
   ],
   "source": [
    "lst1 = [[0]*3]*2\n",
    "lst2 = [1,2,3]\n",
    "lst = [lst1[0][i]+lst2[i] for i in range(0,len(lst2))]\n",
    "print(lst)"
   ]
  },
  {
   "cell_type": "code",
   "execution_count": null,
   "metadata": {
    "collapsed": true
   },
   "outputs": [],
   "source": [
    "#未加平滑\n",
    "def trainNB(train_set, train_label, y_type):\n",
    "    train_size = len(train_set)\n",
    "    x_type = len(train_set[0])\n",
    "    #计算p(y=ci)\n",
    "    Py = [0]*y_type\n",
    "    sum_y = [0]*y_type\n",
    "    #每一种y的各个x项的和\n",
    "    sum_y_x=[[0]*x_type]*y_type\n",
    "    Py_x = [[0]*x_type]*y_type\n",
    "    for i in train_label:\n",
    "        Py[i] += 1\n",
    "        tmp_vec = train_label[i]\n",
    "        sum_y_x[i] = [sum_y_x[i][j]+tmp_vec[j] for j in range(0, x_type)]\n",
    "        \n",
    "    for i in range(0, y_type):\n",
    "        Py[i] = sum_y[i]/train_size\n",
    "        for j in range(0, x_type):\n",
    "            Py_x[i][j] = sum_y_x[i][j]/sum_y[i]\n",
    "    #Py_x[i][j]表示P(x=j|y=i)\n",
    "    #Py[i]表示P(y=i)\n",
    "    return Py_x, Py\n",
    "        \n",
    "    \n",
    "    \n",
    "    "
   ]
  }
 ],
 "metadata": {
  "anaconda-cloud": {},
  "kernelspec": {
   "display_name": "Python [conda root]",
   "language": "python",
   "name": "conda-root-py"
  },
  "language_info": {
   "codemirror_mode": {
    "name": "ipython",
    "version": 3
   },
   "file_extension": ".py",
   "mimetype": "text/x-python",
   "name": "python",
   "nbconvert_exporter": "python",
   "pygments_lexer": "ipython3",
   "version": "3.5.2"
  }
 },
 "nbformat": 4,
 "nbformat_minor": 1
}
