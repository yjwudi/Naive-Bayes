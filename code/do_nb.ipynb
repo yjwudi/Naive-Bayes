{
 "cells": [
  {
   "cell_type": "code",
   "execution_count": 1,
   "metadata": {
    "collapsed": false
   },
   "outputs": [],
   "source": [
    "from process_data import get_data\n",
    "import numpy as np\n",
    "import decimal\n",
    "from decimal import Decimal"
   ]
  },
  {
   "cell_type": "code",
   "execution_count": 2,
   "metadata": {
    "collapsed": false
   },
   "outputs": [
    {
     "name": "stdout",
     "output_type": "stream",
     "text": [
      "[1, 2, 1]\n"
     ]
    }
   ],
   "source": [
    "a=[1]*3\n",
    "a[1]=2\n",
    "print(a)"
   ]
  },
  {
   "cell_type": "code",
   "execution_count": 3,
   "metadata": {
    "collapsed": false
   },
   "outputs": [],
   "source": [
    "#未加平滑\n",
    "def trainNB(train_set, train_label, y_type):\n",
    "    train_size = len(train_set)\n",
    "    x_type = len(train_set[0])\n",
    "    #计算p(y=ci)\n",
    "    Py = [0]*y_type\n",
    "    sum_y = [1]*y_type#平滑,是否需要改成0.5或更小？\n",
    "    #每一种y的各个x项(x为1)的和\n",
    "    sum_y_x_1=[[1]*x_type for i in range(y_type)]\n",
    "    #每一种y的各个x项(x为0)的和\n",
    "    sum_y_x_0=[[1]*x_type for i in range(y_type)]\n",
    "    Py_x_1 = [[0]*x_type for i in range(y_type)]\n",
    "    Py_x_0 = [[0]*x_type for i in range(y_type)]#[[0]*x_type]*y_type\n",
    "    for k in range(0, train_size):\n",
    "        i = train_label[k]\n",
    "        sum_y[i] += 1\n",
    "        tmp_vec = train_set[k]\n",
    "        for j in range(0,len(tmp_vec)):\n",
    "            if tmp_vec[j]==1:\n",
    "                sum_y_x_1[i][j]+=1\n",
    "            else:\n",
    "                sum_y_x_0[i][j]+=1\n",
    "        #break\n",
    "    #print(\"sum_y[0]=\",sum_y[0])  \n",
    "    #print(\"sum_y_x_0[0]:\",sum_y_x_0[0])\n",
    "    for i in range(0, y_type):\n",
    "        Py[i] = sum_y[i]/train_size\n",
    "        for j in range(0, x_type):\n",
    "            Py_x_1[i][j] = sum_y_x_1[i][j]/(sum_y[i]+1)#这里对应平滑项，sum_y[i]+2？看书里是怎么平滑的\n",
    "            Py_x_0[i][j] = sum_y_x_0[i][j]/(sum_y[i]+1)\n",
    "    print(\"py: \", Py)\n",
    "    \n",
    "    #Py_x[i][j]表示P(x=j|y=i)\n",
    "    #Py[i]表示P(y=i)\n",
    "    return Py_x_1, Py_x_0, Py"
   ]
  },
  {
   "cell_type": "code",
   "execution_count": 4,
   "metadata": {
    "collapsed": true
   },
   "outputs": [],
   "source": [
    "def testNB(Py_x_1, Py_x_0, Py, nb_test_set, nb_test_label, y_type):\n",
    "    test_size = len(nb_test_set)\n",
    "    x_type = len(nb_test_set[0])\n",
    "    ans_label = []\n",
    "    decimal.getcontext().prec = 30000\n",
    "    print(\"test_set size: \", len(nb_test_set))\n",
    "    print(\"nb_test_label: \", nb_test_label)\n",
    "    for test_vec in nb_test_set:\n",
    "        max_prob = Decimal('0')\n",
    "        for y_label in range(0, y_type):\n",
    "            prob = Decimal(Py[y_label])\n",
    "            for i in range(0, x_type):\n",
    "                if test_vec[i]==1:\n",
    "                    prob = prob*Decimal(Py_x_1[y_label][i])\n",
    "                else:\n",
    "                    prob = prob*Decimal(Py_x_0[y_label][i])\n",
    "            #print(\"prob=\",prob)\n",
    "            if prob > max_prob:\n",
    "                max_prob = prob\n",
    "                max_label = y_label\n",
    "            #break\n",
    "        print(\"max_label: \", max_label, end=\" \")\n",
    "        ans_label.append(max_label)\n",
    "    print(\"ans_label: \", ans_label)\n",
    "    pred = list(map(lambda x,y : x==y, ans_label, nb_test_label))\n",
    "    efficiency = sum(pred)/len(nb_test_set)\n",
    "    \n",
    "    return efficiency;"
   ]
  },
  {
   "cell_type": "code",
   "execution_count": 6,
   "metadata": {
    "collapsed": false,
    "scrolled": false
   },
   "outputs": [
    {
     "name": "stdout",
     "output_type": "stream",
     "text": [
      "word_set length:  25793\n",
      "400\n",
      "py:  [0.240625, 0.2375, 0.265625, 0.26875]\n",
      "test_set size:  80\n",
      "nb_test_label:  [0, 0, 3, 3, 2, 1, 3, 1, 1, 1, 3, 3, 0, 1, 1, 0, 0, 2, 1, 3, 2, 1, 0, 1, 0, 1, 0, 2, 0, 0, 1, 2, 1, 1, 3, 0, 2, 1, 1, 3, 3, 2, 0, 0, 1, 0, 3, 2, 2, 2, 0, 2, 1, 1, 0, 0, 2, 1, 1, 3, 3, 1, 0, 1, 2, 0, 0, 0, 2, 1, 2, 0, 1, 3, 3, 1, 0, 0, 1, 2]\n",
      "max_label:  0 max_label:  0 max_label:  3 max_label:  3 max_label:  2 max_label:  1 max_label:  3 max_label:  1 max_label:  1 max_label:  1 max_label:  3 max_label:  3 max_label:  0 max_label:  3 max_label:  3 max_label:  0 max_label:  0 max_label:  2 max_label:  1 max_label:  3 max_label:  2 max_label:  1 max_label:  0 max_label:  1 max_label:  0 max_label:  1 max_label:  0 max_label:  2 max_label:  0 max_label:  0 max_label:  1 max_label:  2 max_label:  1 max_label:  1 max_label:  3 max_label:  3 max_label:  2 max_label:  1 max_label:  1 max_label:  3 max_label:  3 max_label:  2 max_label:  0 max_label:  0 max_label:  1 max_label:  0 max_label:  3 max_label:  2 max_label:  2 max_label:  2 max_label:  0 max_label:  2 max_label:  1 max_label:  1 max_label:  0 max_label:  0 max_label:  2 max_label:  1 max_label:  1 max_label:  3 max_label:  3 max_label:  1 max_label:  0 max_label:  1 max_label:  2 max_label:  0 max_label:  0 max_label:  0 max_label:  2 max_label:  1 max_label:  2 max_label:  0 max_label:  1 max_label:  3 max_label:  3 max_label:  1 max_label:  0 max_label:  0 max_label:  1 max_label:  2 ans_label:  [0, 0, 3, 3, 2, 1, 3, 1, 1, 1, 3, 3, 0, 3, 3, 0, 0, 2, 1, 3, 2, 1, 0, 1, 0, 1, 0, 2, 0, 0, 1, 2, 1, 1, 3, 3, 2, 1, 1, 3, 3, 2, 0, 0, 1, 0, 3, 2, 2, 2, 0, 2, 1, 1, 0, 0, 2, 1, 1, 3, 3, 1, 0, 1, 2, 0, 0, 0, 2, 1, 2, 0, 1, 3, 3, 1, 0, 0, 1, 2]\n",
      "epoch =  0 , efficiency =  0.9625\n",
      "py:  [0.253125, 0.25, 0.253125, 0.25625]\n",
      "test_set size:  80\n",
      "nb_test_label:  [3, 2, 0, 0, 3, 1, 1, 0, 3, 3, 1, 2, 2, 3, 3, 0, 0, 0, 1, 2, 2, 1, 1, 2, 0, 1, 2, 2, 3, 2, 2, 3, 2, 0, 0, 0, 1, 1, 3, 0, 2, 1, 1, 3, 2, 3, 3, 0, 2, 1, 2, 2, 2, 1, 1, 0, 3, 3, 3, 2, 3, 1, 2, 3, 0, 0, 0, 1, 1, 1, 0, 0, 2, 2, 3, 3, 1, 1, 0, 0]\n",
      "max_label:  3 max_label:  2 max_label:  0 max_label:  0 max_label:  3 max_label:  1 max_label:  1 max_label:  0 max_label:  3 max_label:  3 max_label:  1 max_label:  2 max_label:  2 max_label:  3 max_label:  3 max_label:  0 max_label:  0 max_label:  0 max_label:  1 max_label:  2 max_label:  2 max_label:  1 max_label:  1 max_label:  2 max_label:  0 max_label:  1 max_label:  2 max_label:  2 max_label:  3 max_label:  2 max_label:  2 max_label:  3 max_label:  2 max_label:  0 max_label:  0 max_label:  0 max_label:  1 max_label:  1 max_label:  3 max_label:  0 max_label:  2 max_label:  1 max_label:  1 max_label:  3 max_label:  2 max_label:  3 max_label:  3 max_label:  0 max_label:  2 max_label:  1 max_label:  2 max_label:  2 max_label:  2 max_label:  1 max_label:  1 max_label:  0 max_label:  3 max_label:  3 max_label:  3 max_label:  2 max_label:  3 max_label:  1 max_label:  2 max_label:  3 max_label:  0 max_label:  0 max_label:  0 max_label:  1 max_label:  1 max_label:  1 max_label:  0 max_label:  0 max_label:  2 max_label:  2 max_label:  3 max_label:  3 max_label:  1 max_label:  1 max_label:  0 max_label:  0 ans_label:  [3, 2, 0, 0, 3, 1, 1, 0, 3, 3, 1, 2, 2, 3, 3, 0, 0, 0, 1, 2, 2, 1, 1, 2, 0, 1, 2, 2, 3, 2, 2, 3, 2, 0, 0, 0, 1, 1, 3, 0, 2, 1, 1, 3, 2, 3, 3, 0, 2, 1, 2, 2, 2, 1, 1, 0, 3, 3, 3, 2, 3, 1, 2, 3, 0, 0, 0, 1, 1, 1, 0, 0, 2, 2, 3, 3, 1, 1, 0, 0]\n",
      "epoch =  1 , efficiency =  1.0\n",
      "py:  [0.25625, 0.24375, 0.26875, 0.24375]\n",
      "test_set size:  80\n",
      "nb_test_label:  [3, 0, 0, 1, 0, 1, 0, 3, 2, 2, 3, 1, 2, 3, 1, 0, 3, 2, 3, 3, 1, 2, 0, 1, 3, 0, 2, 2, 0, 0, 2, 1, 3, 1, 1, 1, 1, 1, 0, 2, 3, 3, 0, 1, 3, 0, 3, 3, 1, 1, 2, 3, 2, 3, 2, 1, 1, 2, 1, 3, 3, 0, 3, 1, 1, 0, 2, 1, 3, 0, 0, 1, 0, 3, 0, 1, 2, 3, 0, 3]\n",
      "max_label:  3 max_label:  0 max_label:  0 max_label:  1 max_label:  0 max_label:  1 max_label:  0 max_label:  3 max_label:  2 max_label:  2 max_label:  3 max_label:  1 max_label:  2 max_label:  3 max_label:  1 max_label:  0 max_label:  3 max_label:  2 max_label:  3 max_label:  3 max_label:  1 max_label:  2 max_label:  0 max_label:  1 max_label:  3 max_label:  0 max_label:  2 max_label:  2 max_label:  0 max_label:  0 max_label:  2 max_label:  1 max_label:  3 max_label:  1 max_label:  1 max_label:  1 max_label:  1 max_label:  1 max_label:  0 max_label:  2 max_label:  3 max_label:  3 max_label:  0 max_label:  1 max_label:  3 max_label:  0 max_label:  3 max_label:  3 max_label:  1 max_label:  1 max_label:  2 max_label:  3 max_label:  2 max_label:  3 max_label:  2 max_label:  1 max_label:  1 max_label:  2 max_label:  1 max_label:  3 max_label:  3 max_label:  0 max_label:  3 max_label:  1 max_label:  1 max_label:  0 max_label:  2 max_label:  1 max_label:  3 max_label:  0 max_label:  3 max_label:  1 max_label:  0 max_label:  3 max_label:  0 max_label:  1 max_label:  2 max_label:  3 max_label:  0 max_label:  3 ans_label:  [3, 0, 0, 1, 0, 1, 0, 3, 2, 2, 3, 1, 2, 3, 1, 0, 3, 2, 3, 3, 1, 2, 0, 1, 3, 0, 2, 2, 0, 0, 2, 1, 3, 1, 1, 1, 1, 1, 0, 2, 3, 3, 0, 1, 3, 0, 3, 3, 1, 1, 2, 3, 2, 3, 2, 1, 1, 2, 1, 3, 3, 0, 3, 1, 1, 0, 2, 1, 3, 0, 3, 1, 0, 3, 0, 1, 2, 3, 0, 3]\n",
      "epoch =  2 , efficiency =  0.9875\n",
      "py:  [0.265625, 0.2375, 0.25, 0.259375]\n",
      "test_set size:  80\n",
      "nb_test_label:  [0, 2, 1, 2, 2, 2, 2, 1, 3, 1, 3, 1, 2, 0, 1, 3, 1, 3, 1, 3, 2, 3, 1, 0, 1, 3, 0, 1, 0, 2, 2, 3, 0, 2, 2, 0, 3, 1, 1, 1, 1, 1, 1, 2, 2, 0, 1, 0, 2, 0, 3, 3, 3, 1, 1, 3, 3, 2, 2, 3, 2, 3, 1, 1, 1, 1, 1, 0, 0, 2, 2, 0, 0, 0, 3, 2, 2, 3, 1, 0]\n",
      "max_label:  0 max_label:  2 max_label:  1 max_label:  2 max_label:  2 max_label:  2 max_label:  2 max_label:  1 max_label:  3 max_label:  1 max_label:  3 max_label:  1 max_label:  2 max_label:  0 max_label:  1 max_label:  3 max_label:  1 max_label:  3 max_label:  1 max_label:  3 max_label:  2 max_label:  3 max_label:  1 max_label:  0 max_label:  1 max_label:  3 max_label:  0 max_label:  3 max_label:  0 max_label:  2 max_label:  2 max_label:  3 max_label:  0 max_label:  2 max_label:  2 max_label:  0 max_label:  3 max_label:  1 max_label:  1 max_label:  1 max_label:  1 max_label:  1 max_label:  1 max_label:  2 max_label:  2 max_label:  0 max_label:  1 max_label:  0 max_label:  2 max_label:  0 max_label:  3 max_label:  3 max_label:  3 max_label:  1 max_label:  1 max_label:  3 max_label:  3 max_label:  2 max_label:  2 max_label:  3 max_label:  2 max_label:  3 max_label:  1 max_label:  1 max_label:  2 max_label:  1 max_label:  1 max_label:  0 max_label:  0 max_label:  2 max_label:  2 max_label:  0 max_label:  0 max_label:  0 max_label:  3 max_label:  2 max_label:  2 max_label:  3 max_label:  1 max_label:  0 ans_label:  [0, 2, 1, 2, 2, 2, 2, 1, 3, 1, 3, 1, 2, 0, 1, 3, 1, 3, 1, 3, 2, 3, 1, 0, 1, 3, 0, 3, 0, 2, 2, 3, 0, 2, 2, 0, 3, 1, 1, 1, 1, 1, 1, 2, 2, 0, 1, 0, 2, 0, 3, 3, 3, 1, 1, 3, 3, 2, 2, 3, 2, 3, 1, 1, 2, 1, 1, 0, 0, 2, 2, 0, 0, 0, 3, 2, 2, 3, 1, 0]\n",
      "epoch =  3 , efficiency =  0.975\n",
      "py:  [0.253125, 0.24375, 0.253125, 0.2625]\n",
      "test_set size:  80\n",
      "nb_test_label:  [3, 0, 1, 2, 1, 1, 2, 1, 3, 0, 3, 0, 2, 0, 3, 0, 0, 1, 0, 1, 2, 1, 1, 0, 0, 3, 1, 2, 1, 1, 0, 2, 0, 0, 1, 2, 2, 3, 1, 3, 1, 0, 2, 3, 0, 1, 2, 3, 3, 0, 2, 2, 1, 3, 1, 2, 2, 2, 0, 0, 3, 3, 1, 1, 2, 0, 0, 1, 3, 3, 1, 2, 2, 3, 2, 1, 3, 3, 1, 0]\n",
      "max_label:  3 max_label:  0 max_label:  1 max_label:  2 max_label:  1 max_label:  1 max_label:  2 max_label:  1 max_label:  3 max_label:  0 max_label:  3 max_label:  0 max_label:  2 max_label:  0 max_label:  3 max_label:  0 max_label:  0 max_label:  1 max_label:  0 max_label:  1 max_label:  2 max_label:  3 max_label:  1 max_label:  0 max_label:  0 max_label:  3 max_label:  1 max_label:  2 max_label:  1 max_label:  1 max_label:  0 max_label:  2 max_label:  0 max_label:  0 max_label:  1 max_label:  2 max_label:  2 max_label:  3 max_label:  1 max_label:  3 max_label:  1 max_label:  0 max_label:  2 max_label:  3 max_label:  0 max_label:  1 max_label:  2 max_label:  3 max_label:  3 max_label:  0 max_label:  2 max_label:  2 max_label:  1 max_label:  3 max_label:  1 max_label:  2 max_label:  2 max_label:  2 max_label:  0 max_label:  0 max_label:  3 max_label:  3 max_label:  1 max_label:  1 max_label:  2 max_label:  0 max_label:  0 max_label:  1 max_label:  3 max_label:  3 max_label:  1 max_label:  2 max_label:  2 max_label:  3 max_label:  2 max_label:  1 max_label:  3 max_label:  3 max_label:  1 max_label:  0 ans_label:  [3, 0, 1, 2, 1, 1, 2, 1, 3, 0, 3, 0, 2, 0, 3, 0, 0, 1, 0, 1, 2, 3, 1, 0, 0, 3, 1, 2, 1, 1, 0, 2, 0, 0, 1, 2, 2, 3, 1, 3, 1, 0, 2, 3, 0, 1, 2, 3, 3, 0, 2, 2, 1, 3, 1, 2, 2, 2, 0, 0, 3, 3, 1, 1, 2, 0, 0, 1, 3, 3, 1, 2, 2, 3, 2, 1, 3, 3, 1, 0]\n",
      "epoch =  4 , efficiency =  0.9875\n"
     ]
    }
   ],
   "source": [
    "if __name__=='__main__':\n",
    "    train_set = get_data()\n",
    "    tset_size = len(train_set)\n",
    "    print(tset_size)\n",
    "    #print(train_set[0])\n",
    "    #print(train_set[1])\n",
    "    #5折交叉验证\n",
    "    for epoch in range(0,5):\n",
    "        perm = np.random.permutation(tset_size)\n",
    "        nb_train_set=[]\n",
    "        nb_train_label=[]\n",
    "        nb_test_set=[]\n",
    "        nb_test_label=[]\n",
    "        for i in range(0, int(4*tset_size/5)):\n",
    "            tmp_vec = train_set[perm[i]-1]\n",
    "            nb_train_set.append(tmp_vec[0:len(tmp_vec)-1])\n",
    "            nb_train_label.append(tmp_vec[len(tmp_vec)-1])\n",
    "        Py_x_1, Py_x_0, Py = trainNB(nb_train_set, nb_train_label, 4)\n",
    "        #print(Py_x_1[1]) \n",
    "        #print(Py_x_0[1])\n",
    "        \n",
    "        for i in range(int(4*tset_size/5), int(tset_size)):\n",
    "            tmp_vec = train_set[perm[i]]#train_set[1]\n",
    "            nb_test_set.append(tmp_vec[0:len(tmp_vec)-1])\n",
    "            nb_test_label.append(tmp_vec[len(tmp_vec)-1])\n",
    "        efficiency =  testNB(Py_x_1, Py_x_0, Py, nb_test_set, nb_test_label, 4)\n",
    "        print(\"epoch = \", epoch, \", efficiency = \", efficiency)\n",
    "        #break\n",
    "    "
   ]
  },
  {
   "cell_type": "code",
   "execution_count": null,
   "metadata": {
    "collapsed": true
   },
   "outputs": [],
   "source": []
  }
 ],
 "metadata": {
  "anaconda-cloud": {},
  "kernelspec": {
   "display_name": "Python [conda root]",
   "language": "python",
   "name": "conda-root-py"
  },
  "language_info": {
   "codemirror_mode": {
    "name": "ipython",
    "version": 3
   },
   "file_extension": ".py",
   "mimetype": "text/x-python",
   "name": "python",
   "nbconvert_exporter": "python",
   "pygments_lexer": "ipython3",
   "version": "3.5.2"
  }
 },
 "nbformat": 4,
 "nbformat_minor": 1
}
